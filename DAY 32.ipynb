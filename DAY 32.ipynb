{
 "cells": [
  {
   "cell_type": "markdown",
   "id": "52b135b6-6912-450b-b7eb-6f822b908590",
   "metadata": {},
   "source": [
    "## Day 32. Iterator in python"
   ]
  },
  {
   "cell_type": "code",
   "execution_count": null,
   "id": "a7df2759-3a0b-481f-ac9a-09900d7d268b",
   "metadata": {},
   "outputs": [],
   "source": [
    "l1 = [23,65,22,76,34,98,43]\n",
    "it = iter(l1)\n",
    "while True:\n",
    "    try:\n",
    "        print(next(it))\n",
    "    except StopIteration:\n",
    "        break"
   ]
  }
 ],
 "metadata": {
  "kernelspec": {
   "display_name": "Python 3 (ipykernel)",
   "language": "python",
   "name": "python3"
  },
  "language_info": {
   "codemirror_mode": {
    "name": "ipython",
    "version": 3
   },
   "file_extension": ".py",
   "mimetype": "text/x-python",
   "name": "python",
   "nbconvert_exporter": "python",
   "pygments_lexer": "ipython3",
   "version": "3.13.5"
  }
 },
 "nbformat": 4,
 "nbformat_minor": 5
}
