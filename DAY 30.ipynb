{
 "cells": [
  {
   "cell_type": "markdown",
   "id": "e724f79d-42ef-43b9-981e-0a40a092d1e8",
   "metadata": {},
   "source": [
    "## 30.Type conversion basics "
   ]
  },
  {
   "cell_type": "code",
   "execution_count": 1,
   "id": "c3bbc8f7-b1c1-476b-a3a2-556ae7d10be0",
   "metadata": {},
   "outputs": [
    {
     "name": "stdout",
     "output_type": "stream",
     "text": [
      "123\n",
      "123.54\n",
      "(3+4j)\n",
      "12\n",
      "True\n",
      "0b11001\n",
      "0o31\n",
      "0x19\n",
      "65\n",
      "b\n"
     ]
    }
   ],
   "source": [
    "x = int('123')\n",
    "a = float('123.54')\n",
    "b = complex('3+4j')\n",
    "c = str(12)\n",
    "d = bool('True')\n",
    "e = bin(25)\n",
    "f = oct(25)\n",
    "g = hex(25)\n",
    "h = ord('A')\n",
    "i = chr(98)\n",
    "print(x,a,b,c,d,e,f,g,h,i,sep=\"\\n\")"
   ]
  },
  {
   "cell_type": "code",
   "execution_count": null,
   "id": "2d991fa4-2e7f-4598-bde0-a9f39af9ea5f",
   "metadata": {},
   "outputs": [],
   "source": []
  }
 ],
 "metadata": {
  "kernelspec": {
   "display_name": "Python 3 (ipykernel)",
   "language": "python",
   "name": "python3"
  },
  "language_info": {
   "codemirror_mode": {
    "name": "ipython",
    "version": 3
   },
   "file_extension": ".py",
   "mimetype": "text/x-python",
   "name": "python",
   "nbconvert_exporter": "python",
   "pygments_lexer": "ipython3",
   "version": "3.13.5"
  }
 },
 "nbformat": 4,
 "nbformat_minor": 5
}
