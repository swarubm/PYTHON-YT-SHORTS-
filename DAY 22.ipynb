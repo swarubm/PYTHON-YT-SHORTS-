{
 "cells": [
  {
   "cell_type": "markdown",
   "id": "b1f90934-b662-49c9-93d7-07390ba3d314",
   "metadata": {},
   "source": [
    "## 22. Implementing variable length argument in python "
   ]
  },
  {
   "cell_type": "code",
   "execution_count": 1,
   "id": "19c6093f-8998-44e9-bb3f-3e6cbbc955d3",
   "metadata": {},
   "outputs": [
    {
     "name": "stdout",
     "output_type": "stream",
     "text": [
      "average is: 38.0\n",
      "average is: 27.5\n"
     ]
    }
   ],
   "source": [
    "def average(*t):\n",
    "    avg = sum(t)/len(t)\n",
    "    return avg\n",
    "result1= average(32,5,65,22,87,34,2,57)\n",
    "result2= average(5,10,15,20,25,30,35,40,45,50)\n",
    "print(\"average is:\",result1)\n",
    "print(\"average is:\",result2)"
   ]
  },
  {
   "cell_type": "code",
   "execution_count": 17,
   "id": "f277a277-2db6-45f4-9f92-95f886910853",
   "metadata": {},
   "outputs": [],
   "source": [
    "def avg_with_kwargs(**kwargs):\n",
    "    values = list(kwargs.values())\n",
    "    avg= sum(values)/len(values)\n",
    "    return avg \n",
    "    result1 = avg_with_kwargs(num1=32,num2=5,num3=65,num4=22,num5=87,num6=34,num7=2,num8=57)\n",
    "    result2= avg_with_kwargs(value1=5,value2=10,value3=15,value4=20,value5=25,value6=30,value7=35,value8=40,value9=45,value10=50)\n",
    "    print(f'Average is:{result1:2f}')\n",
    "    print(f'Average is:{result2:2f}')"
   ]
  },
  {
   "cell_type": "code",
   "execution_count": null,
   "id": "914ab0f5-27ab-4331-ae8b-fdabca279aff",
   "metadata": {},
   "outputs": [],
   "source": []
  }
 ],
 "metadata": {
  "kernelspec": {
   "display_name": "Python 3 (ipykernel)",
   "language": "python",
   "name": "python3"
  },
  "language_info": {
   "codemirror_mode": {
    "name": "ipython",
    "version": 3
   },
   "file_extension": ".py",
   "mimetype": "text/x-python",
   "name": "python",
   "nbconvert_exporter": "python",
   "pygments_lexer": "ipython3",
   "version": "3.13.5"
  }
 },
 "nbformat": 4,
 "nbformat_minor": 5
}
