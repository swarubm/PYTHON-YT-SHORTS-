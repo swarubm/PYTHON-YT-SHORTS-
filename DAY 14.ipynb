{
 "cells": [
  {
   "cell_type": "markdown",
   "id": "29553a0f-aee1-4bb0-8c37-b8d650ce2033",
   "metadata": {},
   "source": [
    "# 14. Checking for palindrome using slicing technique "
   ]
  },
  {
   "cell_type": "code",
   "execution_count": 4,
   "id": "6ede3123-5d19-4178-b15b-a329f2215e38",
   "metadata": {},
   "outputs": [
    {
     "name": "stdout",
     "output_type": "stream",
     "text": [
      "True\n"
     ]
    }
   ],
   "source": [
    "str1 = \"kayak\".lower()\n",
    "if str1 == str1[::-1]:\n",
    "    print(\"True\")\n",
    "else:\n",
    "    print(\"False\")"
   ]
  }
 ],
 "metadata": {
  "kernelspec": {
   "display_name": "Python 3 (ipykernel)",
   "language": "python",
   "name": "python3"
  },
  "language_info": {
   "codemirror_mode": {
    "name": "ipython",
    "version": 3
   },
   "file_extension": ".py",
   "mimetype": "text/x-python",
   "name": "python",
   "nbconvert_exporter": "python",
   "pygments_lexer": "ipython3",
   "version": "3.13.5"
  }
 },
 "nbformat": 4,
 "nbformat_minor": 5
}
