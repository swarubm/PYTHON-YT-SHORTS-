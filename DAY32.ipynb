{
 "cells": [
  {
   "cell_type": "markdown",
   "id": "6e0056e0-e1dd-4250-900c-1e6d58201c28",
   "metadata": {},
   "source": [
    "## 32. write a program to find sum of two numbers"
   ]
  },
  {
   "cell_type": "code",
   "execution_count": null,
   "id": "c08be0dc-e18d-4816-85ec-d066ad153b8d",
   "metadata": {},
   "outputs": [],
   "source": [
    "num1 = int(input(\"enter 1st number:\"))\n",
    "num2 = int(input(\"enter 2nd number:\"))\n",
    "print(\"num1+num2 =\",num1+num2)"
   ]
  }
 ],
 "metadata": {
  "kernelspec": {
   "display_name": "Python 3 (ipykernel)",
   "language": "python",
   "name": "python3"
  },
  "language_info": {
   "codemirror_mode": {
    "name": "ipython",
    "version": 3
   },
   "file_extension": ".py",
   "mimetype": "text/x-python",
   "name": "python",
   "nbconvert_exporter": "python",
   "pygments_lexer": "ipython3",
   "version": "3.13.5"
  }
 },
 "nbformat": 4,
 "nbformat_minor": 5
}
