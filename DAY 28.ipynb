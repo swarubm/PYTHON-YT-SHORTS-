{
 "cells": [
  {
   "cell_type": "markdown",
   "id": "b18684b5-7fed-427b-9214-bdbc9c520093",
   "metadata": {},
   "source": [
    "## 28.Global and local variable "
   ]
  },
  {
   "cell_type": "code",
   "execution_count": 4,
   "id": "71328148-9ff6-47d9-b01a-3d4e787fa283",
   "metadata": {},
   "outputs": [
    {
     "name": "stdout",
     "output_type": "stream",
     "text": [
      "x=15 y=10\n",
      "15\n"
     ]
    }
   ],
   "source": [
    "x=5\n",
    "def f1():\n",
    "    global x\n",
    "    x = 15\n",
    "    y =10\n",
    "    print(\"x=%d y=%d\"%(x,y))\n",
    "f1()\n",
    "print(x)"
   ]
  }
 ],
 "metadata": {
  "kernelspec": {
   "display_name": "Python 3 (ipykernel)",
   "language": "python",
   "name": "python3"
  },
  "language_info": {
   "codemirror_mode": {
    "name": "ipython",
    "version": 3
   },
   "file_extension": ".py",
   "mimetype": "text/x-python",
   "name": "python",
   "nbconvert_exporter": "python",
   "pygments_lexer": "ipython3",
   "version": "3.13.5"
  }
 },
 "nbformat": 4,
 "nbformat_minor": 5
}
