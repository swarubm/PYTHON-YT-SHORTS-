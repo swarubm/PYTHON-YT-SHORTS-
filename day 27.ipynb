{
 "cells": [
  {
   "cell_type": "markdown",
   "id": "9361a4c5-0045-477f-b281-41eab6621309",
   "metadata": {},
   "source": [
    "# 27. SPLIT AND JOIN FUNCTION IN STRING "
   ]
  },
  {
   "cell_type": "code",
   "execution_count": 9,
   "id": "b137c440-2bff-4527-b3f1-f4be2ed3a3a9",
   "metadata": {},
   "outputs": [
    {
     "name": "stdout",
     "output_type": "stream",
     "text": [
      "['what', 'is', 'right', 'in', 'your', 'mind', 'is', 'right', 'in', 'your', 'world']\n",
      "['world', 'your', 'in', 'right', 'is', 'mind', 'your', 'in', 'right', 'is', 'what']\n",
      "world1your1in1right1is1mind1your1in1right1is1what\n"
     ]
    }
   ],
   "source": [
    "s = \"what is right in your mind is right in your world\"\n",
    "s1= s.split(\" \")\n",
    "print(s1)\n",
    "s1 = s1[::-1]\n",
    "print(s1)\n",
    "print(\" \".join(s1))"
   ]
  },
  {
   "cell_type": "code",
   "execution_count": null,
   "id": "2711a501-48f8-415e-8cb2-2ce60ec25fc6",
   "metadata": {},
   "outputs": [],
   "source": []
  }
 ],
 "metadata": {
  "kernelspec": {
   "display_name": "Python 3 (ipykernel)",
   "language": "python",
   "name": "python3"
  },
  "language_info": {
   "codemirror_mode": {
    "name": "ipython",
    "version": 3
   },
   "file_extension": ".py",
   "mimetype": "text/x-python",
   "name": "python",
   "nbconvert_exporter": "python",
   "pygments_lexer": "ipython3",
   "version": "3.13.5"
  }
 },
 "nbformat": 4,
 "nbformat_minor": 5
}
