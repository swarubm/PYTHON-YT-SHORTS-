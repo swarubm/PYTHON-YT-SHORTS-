{
  "nbformat": 4,
  "nbformat_minor": 0,
  "metadata": {
    "colab": {
      "provenance": [],
      "authorship_tag": "ABX9TyMfSUVgVLB75i6pR3PQZwGc",
      "include_colab_link": true
    },
    "kernelspec": {
      "name": "python3",
      "display_name": "Python 3"
    },
    "language_info": {
      "name": "python"
    }
  },
  "cells": [
    {
      "cell_type": "markdown",
      "metadata": {
        "id": "view-in-github",
        "colab_type": "text"
      },
      "source": [
        "<a href=\"https://colab.research.google.com/github/swarubm/PYTHON-YT-SHORTS-/blob/main/34_decorator_in_python.ipynb\" target=\"_parent\"><img src=\"https://colab.research.google.com/assets/colab-badge.svg\" alt=\"Open In Colab\"/></a>"
      ]
    },
    {
      "cell_type": "code",
      "execution_count": 4,
      "metadata": {
        "colab": {
          "base_uri": "https://localhost:8080/"
        },
        "id": "2JROC-KHyBg2",
        "outputId": "d000b735-8831-4501-ecc9-e9f95e22ff11"
      },
      "outputs": [
        {
          "output_type": "stream",
          "name": "stdout",
          "text": [
            "Before the function runs\n",
            "Hello, World!\n",
            "After the function runs\n"
          ]
        }
      ],
      "source": [
        "def my_decorator(func):\n",
        "    def wrapper():\n",
        "        print(\"Before the function runs\")\n",
        "        func()\n",
        "        print(\"After the function runs\")\n",
        "    return wrapper\n",
        "\n",
        "@my_decorator\n",
        "def say_hello():\n",
        "    print(\"Hello, World!\")\n",
        "\n",
        "say_hello()\n"
      ]
    },
    {
      "cell_type": "code",
      "source": [
        "def check_positive(func):\n",
        "    def wrapper(number):\n",
        "        if number > 0:\n",
        "            func(number)\n",
        "        else:\n",
        "            print(\"Please give a positive number!\")\n",
        "    return wrapper\n",
        "\n",
        "@check_positive\n",
        "def square(n):\n",
        "    print(\"Square is:\", n * n)\n",
        "\n",
        "square(5)   # positive\n",
        "square(-3)  # negative\n"
      ],
      "metadata": {
        "colab": {
          "base_uri": "https://localhost:8080/"
        },
        "id": "SLstje89ycQh",
        "outputId": "4acad4f3-401e-4ffa-945e-126d9ea7d0c9"
      },
      "execution_count": 3,
      "outputs": [
        {
          "output_type": "stream",
          "name": "stdout",
          "text": [
            "Square is: 25\n",
            "Please give a positive number!\n"
          ]
        }
      ]
    },
    {
      "cell_type": "code",
      "source": [
        "def ensure_positive(original_function):\n",
        "    def inner(value):\n",
        "        if value > 0:\n",
        "            original_function(value)\n",
        "        else:\n",
        "            print(\"Kindly enter a number greater than zero!\")\n",
        "    return inner"
      ],
      "metadata": {
        "id": "MX2WH8vM0JP6"
      },
      "execution_count": 5,
      "outputs": []
    },
    {
      "cell_type": "code",
      "source": [
        "@ensure_positive\n",
        "def find_square(x):\n",
        "    print(\"The square is:\", x * x)"
      ],
      "metadata": {
        "id": "hZoL3f8w0NY9"
      },
      "execution_count": 7,
      "outputs": []
    },
    {
      "cell_type": "code",
      "source": [
        "def greet_decorator(func):\n",
        "    def wrapper():\n",
        "        print(\"Hello!\")\n",
        "        func()\n",
        "        print(\"Goodbye!\")\n",
        "    return wrapper\n",
        "\n",
        "@greet_decorator\n",
        "def say_name():\n",
        "    print(\"I am Python.\")\n",
        "\n",
        "say_name()\n"
      ],
      "metadata": {
        "colab": {
          "base_uri": "https://localhost:8080/"
        },
        "id": "0UeP4XDq6v69",
        "outputId": "9dbf331d-ca74-42ce-da93-34c27cfe170e"
      },
      "execution_count": 8,
      "outputs": [
        {
          "output_type": "stream",
          "name": "stdout",
          "text": [
            "Hello!\n",
            "I am Python.\n",
            "Goodbye!\n"
          ]
        }
      ]
    }
  ]
}