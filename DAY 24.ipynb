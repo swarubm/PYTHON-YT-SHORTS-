{
 "cells": [
  {
   "cell_type": "markdown",
   "id": "58990258-5536-4f7f-aa65-62c0c6b2f129",
   "metadata": {},
   "source": [
    "## 24 Addition using lambda function"
   ]
  },
  {
   "cell_type": "code",
   "execution_count": 3,
   "id": "a8d3f2c8-0d1f-4b1f-b636-9e8f5f70beba",
   "metadata": {},
   "outputs": [
    {
     "name": "stdout",
     "output_type": "stream",
     "text": [
      "10\n"
     ]
    }
   ],
   "source": [
    "f=lambda a,b: a+b\n",
    "r=f(3,7)\n",
    "print(r)"
   ]
  },
  {
   "cell_type": "code",
   "execution_count": 10,
   "id": "10cc6c8c-2a77-40a0-8109-225ba0eda29a",
   "metadata": {},
   "outputs": [
    {
     "name": "stdout",
     "output_type": "stream",
     "text": [
      "11\n"
     ]
    }
   ],
   "source": [
    "print((lambda a,b: a+b)(3,8))"
   ]
  }
 ],
 "metadata": {
  "kernelspec": {
   "display_name": "Python 3 (ipykernel)",
   "language": "python",
   "name": "python3"
  },
  "language_info": {
   "codemirror_mode": {
    "name": "ipython",
    "version": 3
   },
   "file_extension": ".py",
   "mimetype": "text/x-python",
   "name": "python",
   "nbconvert_exporter": "python",
   "pygments_lexer": "ipython3",
   "version": "3.13.5"
  }
 },
 "nbformat": 4,
 "nbformat_minor": 5
}
