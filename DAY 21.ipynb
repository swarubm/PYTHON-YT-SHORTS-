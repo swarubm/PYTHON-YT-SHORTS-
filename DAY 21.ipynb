{
 "cells": [
  {
   "cell_type": "markdown",
   "id": "b227fcdc-26e1-4f8d-ae11-7b3245f3ddea",
   "metadata": {},
   "source": [
    "## 21. create a generator to produce first n prime numbers "
   ]
  },
  {
   "cell_type": "code",
   "execution_count": 26,
   "id": "1c19f94c-40a1-4075-8438-b31239445a6c",
   "metadata": {},
   "outputs": [
    {
     "name": "stdin",
     "output_type": "stream",
     "text": [
      "Enter a number:  5\n"
     ]
    },
    {
     "name": "stdout",
     "output_type": "stream",
     "text": [
      "True\n"
     ]
    }
   ],
   "source": [
    "def prime_no(n):\n",
    "    Flag = False\n",
    "    if n < 2:\n",
    "        return Flag\n",
    "    else:\n",
    "        Flag = True\n",
    "        return Flag\n",
    "\n",
    "num = int(input(\"Enter a number: \"))\n",
    "print(prime_no(num))\n"
   ]
  },
  {
   "cell_type": "code",
   "execution_count": 25,
   "id": "b6b43f83-b33c-4180-b836-986529909b71",
   "metadata": {},
   "outputs": [
    {
     "name": "stdin",
     "output_type": "stream",
     "text": [
      "enter a number 8\n"
     ]
    },
    {
     "data": {
      "text/plain": [
       "False"
      ]
     },
     "execution_count": 25,
     "metadata": {},
     "output_type": "execute_result"
    }
   ],
   "source": [
    "def prime_no(n):\n",
    "    Flag = False\n",
    "    if n<2:\n",
    "        return Flag\n",
    "    else:\n",
    "        for i in range(2,n):\n",
    "            if n %i==0:\n",
    "                return Flag\n",
    "        Flag = True\n",
    "        return Flag \n",
    "num = int(input(\"enter a number\"))\n",
    "prime_no(num)"
   ]
  },
  {
   "cell_type": "code",
   "execution_count": null,
   "id": "0e0fa323-d07a-4052-b6ee-637bf67cf40f",
   "metadata": {},
   "outputs": [],
   "source": []
  }
 ],
 "metadata": {
  "kernelspec": {
   "display_name": "Python 3 (ipykernel)",
   "language": "python",
   "name": "python3"
  },
  "language_info": {
   "codemirror_mode": {
    "name": "ipython",
    "version": 3
   },
   "file_extension": ".py",
   "mimetype": "text/x-python",
   "name": "python",
   "nbconvert_exporter": "python",
   "pygments_lexer": "ipython3",
   "version": "3.13.5"
  }
 },
 "nbformat": 4,
 "nbformat_minor": 5
}
