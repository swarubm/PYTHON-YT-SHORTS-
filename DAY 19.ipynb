{
 "cells": [
  {
   "cell_type": "markdown",
   "id": "a5781de6-4b95-49ba-80f3-1d9abe3e623b",
   "metadata": {},
   "source": [
    "# 19. Building pyramid in python"
   ]
  },
  {
   "cell_type": "code",
   "execution_count": 5,
   "id": "53efe01e-7560-4364-94b6-be41cc8ff83b",
   "metadata": {},
   "outputs": [
    {
     "name": "stdout",
     "output_type": "stream",
     "text": [
      "    *\n",
      "   **\n",
      "  ***\n",
      " ****\n",
      "*****\n"
     ]
    }
   ],
   "source": [
    "def pyramid(n):\n",
    "    for i in range(n):\n",
    "        # Print spaces\n",
    "        for j in range(i, n-1):\n",
    "            print(\" \", end=\"\")\n",
    "        # Print stars\n",
    "        for j in range(i+1):\n",
    "            print(\"*\", end=\"\")\n",
    "        print(\"\")  # Move to the next line\n",
    "\n",
    "pyramid(5)\n"
   ]
  },
  {
   "cell_type": "code",
   "execution_count": 6,
   "id": "d70a1ec8-a73e-4c86-b80f-5ac8707b634b",
   "metadata": {},
   "outputs": [
    {
     "name": "stdout",
     "output_type": "stream",
     "text": [
      "     *\n",
      "    **\n",
      "   ***\n",
      "  ****\n",
      " *****\n"
     ]
    }
   ],
   "source": [
    "def pyramid(n):\n",
    "    for i in range(n):  # Loop through each row\n",
    "        # Print spaces\n",
    "        for j in range(i, n):\n",
    "            print(\" \", end=\"\")\n",
    "\n",
    "        # Print stars\n",
    "        for j in range(i + 1):\n",
    "            print(\"*\", end=\"\")\n",
    "\n",
    "        # Move to the next line after each row\n",
    "        print()\n",
    "\n",
    "# Call the function\n",
    "pyramid(5)\n"
   ]
  },
  {
   "cell_type": "code",
   "execution_count": null,
   "id": "2585b05e-4e92-41e5-9fae-b5949ce51a11",
   "metadata": {},
   "outputs": [],
   "source": []
  }
 ],
 "metadata": {
  "kernelspec": {
   "display_name": "Python 3 (ipykernel)",
   "language": "python",
   "name": "python3"
  },
  "language_info": {
   "codemirror_mode": {
    "name": "ipython",
    "version": 3
   },
   "file_extension": ".py",
   "mimetype": "text/x-python",
   "name": "python",
   "nbconvert_exporter": "python",
   "pygments_lexer": "ipython3",
   "version": "3.13.5"
  }
 },
 "nbformat": 4,
 "nbformat_minor": 5
}
