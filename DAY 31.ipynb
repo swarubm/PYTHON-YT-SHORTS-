{
 "cells": [
  {
   "cell_type": "markdown",
   "id": "0aa5efef-6c9b-46b1-bed6-76b3313627ac",
   "metadata": {},
   "source": [
    "## 31. Type conversion"
   ]
  },
  {
   "cell_type": "code",
   "execution_count": 1,
   "id": "e3d67d18-83e3-440b-a402-c2233f9db0c9",
   "metadata": {},
   "outputs": [
    {
     "name": "stdout",
     "output_type": "stream",
     "text": [
      "<class 'int'>\n",
      "<class 'str'>\n",
      "5123\n",
      "128\n"
     ]
    }
   ],
   "source": [
    "x = 5 \n",
    "print(type(x))\n",
    "s1 = '123'\n",
    "print(type(s1))\n",
    "print(str(x) + s1)\n",
    "print(x+int(s1))"
   ]
  }
 ],
 "metadata": {
  "kernelspec": {
   "display_name": "Python 3 (ipykernel)",
   "language": "python",
   "name": "python3"
  },
  "language_info": {
   "codemirror_mode": {
    "name": "ipython",
    "version": 3
   },
   "file_extension": ".py",
   "mimetype": "text/x-python",
   "name": "python",
   "nbconvert_exporter": "python",
   "pygments_lexer": "ipython3",
   "version": "3.13.5"
  }
 },
 "nbformat": 4,
 "nbformat_minor": 5
}
