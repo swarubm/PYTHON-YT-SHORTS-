{
 "cells": [
  {
   "cell_type": "markdown",
   "id": "9633767b-8d5e-4fa6-b7f5-dff13f0acb6e",
   "metadata": {},
   "source": [
    " ##  16 Counting Digits,letters and spaces in a string"
   ]
  },
  {
   "cell_type": "code",
   "execution_count": 1,
   "id": "5bfaa017-417e-460d-878f-c912c0f59af6",
   "metadata": {},
   "outputs": [],
   "source": [
    "import re "
   ]
  },
  {
   "cell_type": "code",
   "execution_count": 3,
   "id": "8b70b47b-f0fb-4dad-aafb-a7bca1143a80",
   "metadata": {},
   "outputs": [
    {
     "name": "stdout",
     "output_type": "stream",
     "text": [
      "23\n",
      "22\n",
      "3\n"
     ]
    }
   ],
   "source": [
    "name = 'python no 1 programming'\n",
    "digitcount =re.sub('^[0-9]','',name)\n",
    "lettercount = re.sub('^[a-zA-Z]','',name)\n",
    "spacecount = re.findall('[\\s]',name)\n",
    "print(len(digitcount))\n",
    "print(len(lettercount))\n",
    "print(len(spacecount))"
   ]
  },
  {
   "cell_type": "code",
   "execution_count": null,
   "id": "c32204f5-93d7-48f7-9778-6c28b719db72",
   "metadata": {},
   "outputs": [],
   "source": []
  }
 ],
 "metadata": {
  "kernelspec": {
   "display_name": "Python 3 (ipykernel)",
   "language": "python",
   "name": "python3"
  },
  "language_info": {
   "codemirror_mode": {
    "name": "ipython",
    "version": 3
   },
   "file_extension": ".py",
   "mimetype": "text/x-python",
   "name": "python",
   "nbconvert_exporter": "python",
   "pygments_lexer": "ipython3",
   "version": "3.13.5"
  }
 },
 "nbformat": 4,
 "nbformat_minor": 5
}
