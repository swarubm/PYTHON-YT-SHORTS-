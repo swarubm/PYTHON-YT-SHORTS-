{
 "cells": [
  {
   "cell_type": "markdown",
   "id": "184d15ef-c748-4424-97fa-eb176908e302",
   "metadata": {},
   "source": [
    "## 25. Finding factorial using lambda function"
   ]
  },
  {
   "cell_type": "code",
   "execution_count": 1,
   "id": "8f62b559-aa2e-483f-86c2-3346ded0edec",
   "metadata": {},
   "outputs": [
    {
     "data": {
      "text/plain": [
       "120"
      ]
     },
     "execution_count": 1,
     "metadata": {},
     "output_type": "execute_result"
    }
   ],
   "source": [
    "f = lambda n: 1 if n==0 else n*f(n-1)\n",
    "f(5)"
   ]
  },
  {
   "cell_type": "code",
   "execution_count": 8,
   "id": "70273fdb-b41d-400a-b3bc-5e349b496580",
   "metadata": {},
   "outputs": [
    {
     "name": "stdin",
     "output_type": "stream",
     "text": [
      "Enter a number: 6\n"
     ]
    },
    {
     "name": "stdout",
     "output_type": "stream",
     "text": [
      "the factorial 6 is  720\n"
     ]
    }
   ],
   "source": [
    "num  = int(input(\"Enter a number:\"))\n",
    "factorial = 1\n",
    "if num<0:                                           \n",
    "    print(\"fact does not exist for -ve number\")\n",
    "elif num==0:\n",
    "    print(\"factorial of 0 is 1\")\n",
    "else:\n",
    "    for i in range(1,num+1):\n",
    "      factorial = factorial*i\n",
    "print(f\"the factorial {num} is \",factorial)"
   ]
  },
  {
   "cell_type": "code",
   "execution_count": null,
   "id": "3ccde2e8-8c1a-403a-aaf0-b4725a308da5",
   "metadata": {},
   "outputs": [],
   "source": []
  }
 ],
 "metadata": {
  "kernelspec": {
   "display_name": "Python 3 (ipykernel)",
   "language": "python",
   "name": "python3"
  },
  "language_info": {
   "codemirror_mode": {
    "name": "ipython",
    "version": 3
   },
   "file_extension": ".py",
   "mimetype": "text/x-python",
   "name": "python",
   "nbconvert_exporter": "python",
   "pygments_lexer": "ipython3",
   "version": "3.13.5"
  }
 },
 "nbformat": 4,
 "nbformat_minor": 5
}
