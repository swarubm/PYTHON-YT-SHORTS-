{
 "cells": [
  {
   "cell_type": "markdown",
   "id": "595e2acd-2bb5-46f1-a399-c1e22fecfe93",
   "metadata": {},
   "source": [
    "## 18 Removing all whitespaces in a string"
   ]
  },
  {
   "cell_type": "code",
   "execution_count": 11,
   "id": "614f09c0-8709-4152-9f4f-9e1442ebef93",
   "metadata": {},
   "outputs": [
    {
     "name": "stdout",
     "output_type": "stream",
     "text": [
      "code\n"
     ]
    }
   ],
   "source": [
    "string = \" c o d e \"\n",
    "string2 = \"\".join(char for char in string if char != \" \")\n",
    "print(string2)"
   ]
  },
  {
   "cell_type": "code",
   "execution_count": 15,
   "id": "83fa5a56-c91d-4266-b5b7-84cf4cd8ae77",
   "metadata": {},
   "outputs": [
    {
     "name": "stdout",
     "output_type": "stream",
     "text": [
      "code\n"
     ]
    }
   ],
   "source": [
    "string = ' c o d e' \n",
    "string2 = string.replace(\" \",\"\")\n",
    "print(string2)"
   ]
  },
  {
   "cell_type": "code",
   "execution_count": 5,
   "id": "7240313e-55bc-4eb8-84db-52bc35060f8d",
   "metadata": {},
   "outputs": [
    {
     "name": "stdout",
     "output_type": "stream",
     "text": [
      "code\n"
     ]
    }
   ],
   "source": [
    "import re\n",
    "string = \"c o d e\"\n",
    "result = re.sub(r'\\s', \"\", string)\n",
    "print(result)"
   ]
  }
 ],
 "metadata": {
  "kernelspec": {
   "display_name": "Python 3 (ipykernel)",
   "language": "python",
   "name": "python3"
  },
  "language_info": {
   "codemirror_mode": {
    "name": "ipython",
    "version": 3
   },
   "file_extension": ".py",
   "mimetype": "text/x-python",
   "name": "python",
   "nbconvert_exporter": "python",
   "pygments_lexer": "ipython3",
   "version": "3.13.5"
  }
 },
 "nbformat": 4,
 "nbformat_minor": 5
}
