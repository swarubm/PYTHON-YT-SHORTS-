{
 "cells": [
  {
   "cell_type": "markdown",
   "id": "66916eeb-e615-48c2-a849-f71881d49a39",
   "metadata": {},
   "source": [
    "# 15. Counting white space in a string"
   ]
  },
  {
   "cell_type": "code",
   "execution_count": 1,
   "id": "064138d1-8f43-46a0-8989-6ec7a16c3c63",
   "metadata": {},
   "outputs": [
    {
     "name": "stdout",
     "output_type": "stream",
     "text": [
      "3\n"
     ]
    }
   ],
   "source": [
    "string = \"p r ogram ing\"\n",
    "print(string.count(\" \"))"
   ]
  },
  {
   "cell_type": "code",
   "execution_count": null,
   "id": "7412b0d5-4ba7-4896-9f8f-db7c82377c31",
   "metadata": {},
   "outputs": [],
   "source": []
  }
 ],
 "metadata": {
  "kernelspec": {
   "display_name": "Python 3 (ipykernel)",
   "language": "python",
   "name": "python3"
  },
  "language_info": {
   "codemirror_mode": {
    "name": "ipython",
    "version": 3
   },
   "file_extension": ".py",
   "mimetype": "text/x-python",
   "name": "python",
   "nbconvert_exporter": "python",
   "pygments_lexer": "ipython3",
   "version": "3.13.5"
  }
 },
 "nbformat": 4,
 "nbformat_minor": 5
}
