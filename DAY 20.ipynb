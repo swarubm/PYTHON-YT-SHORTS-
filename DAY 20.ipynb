{
 "cells": [
  {
   "cell_type": "markdown",
   "id": "26e3edbd-e319-4c12-a68c-85b6bf65b686",
   "metadata": {},
   "source": [
    "## 20. randomizing the items of a  list in python"
   ]
  },
  {
   "cell_type": "code",
   "execution_count": 10,
   "id": "c0b843c6-03a4-4a15-9026-b5487e0d6ae2",
   "metadata": {},
   "outputs": [
    {
     "name": "stdout",
     "output_type": "stream",
     "text": [
      "['easy', 'is', 'python']\n"
     ]
    }
   ],
   "source": [
    "from random import shuffle \n",
    "lst = ['python','is' , 'easy' ]\n",
    "shuffle(lst)\n",
    "print(lst)"
   ]
  },
  {
   "cell_type": "code",
   "execution_count": null,
   "id": "50174544-411b-4b12-9c00-98c8ea41fd0a",
   "metadata": {},
   "outputs": [],
   "source": []
  }
 ],
 "metadata": {
  "kernelspec": {
   "display_name": "Python 3 (ipykernel)",
   "language": "python",
   "name": "python3"
  },
  "language_info": {
   "codemirror_mode": {
    "name": "ipython",
    "version": 3
   },
   "file_extension": ".py",
   "mimetype": "text/x-python",
   "name": "python",
   "nbconvert_exporter": "python",
   "pygments_lexer": "ipython3",
   "version": "3.13.5"
  }
 },
 "nbformat": 4,
 "nbformat_minor": 5
}
