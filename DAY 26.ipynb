{
 "cells": [
  {
   "cell_type": "markdown",
   "id": "5abd39c6-6507-4e37-9c8f-e2f1a9016810",
   "metadata": {},
   "source": [
    "## 26. list compression (creating even number list in a single line )"
   ]
  },
  {
   "cell_type": "code",
   "execution_count": 2,
   "id": "4fb79921-a625-4e3c-b562-afc2571ec740",
   "metadata": {},
   "outputs": [
    {
     "name": "stdout",
     "output_type": "stream",
     "text": [
      "[2, 4, 6, 8, 10, 12, 14, 16, 18]\n",
      "[78, 56, 34, 12]\n"
     ]
    }
   ],
   "source": [
    "l1 = [2*e for e in range(1,10)]\n",
    "print(l1)\n",
    "\n",
    "list= [23,45,67,78,89,89,87,67,56,34,12]\n",
    "l2 = [e for e in list if e%2==0]\n",
    "print(l2)"
   ]
  },
  {
   "cell_type": "code",
   "execution_count": null,
   "id": "d4ceb545-ae08-4cab-b4c1-72051e7de177",
   "metadata": {},
   "outputs": [],
   "source": []
  }
 ],
 "metadata": {
  "kernelspec": {
   "display_name": "Python 3 (ipykernel)",
   "language": "python",
   "name": "python3"
  },
  "language_info": {
   "codemirror_mode": {
    "name": "ipython",
    "version": 3
   },
   "file_extension": ".py",
   "mimetype": "text/x-python",
   "name": "python",
   "nbconvert_exporter": "python",
   "pygments_lexer": "ipython3",
   "version": "3.13.5"
  }
 },
 "nbformat": 4,
 "nbformat_minor": 5
}
