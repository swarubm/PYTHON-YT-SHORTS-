{
 "cells": [
  {
   "cell_type": "markdown",
   "id": "963bf4eb-72ce-4e18-87da-e082ff92d74b",
   "metadata": {},
   "source": [
    "## 17 Counting special charecters in a string"
   ]
  },
  {
   "cell_type": "code",
   "execution_count": null,
   "id": "dde7f5b1-01f3-4bb4-b0e0-d9e2a7911b9c",
   "metadata": {},
   "outputs": [],
   "source": [
    "def count_sp_char(string):\n",
    "    sp_char = \" !@#$%^&*()_+<>?|}{;:\\\"\"\n",
    "    count = 0\n",
    "    for i in string:\n",
    "        if i in sp_char:\n",
    "            count = count + 1\n",
    "    return count\n",
    "\n",
    "text = 'hello ! how are you? special chars 123'\n",
    "result = count_sp_char(text)\n",
    "print(result)"
   ]
  }
 ],
 "metadata": {
  "kernelspec": {
   "display_name": "Python 3 (ipykernel)",
   "language": "python",
   "name": "python3"
  },
  "language_info": {
   "codemirror_mode": {
    "name": "ipython",
    "version": 3
   },
   "file_extension": ".py",
   "mimetype": "text/x-python",
   "name": "python",
   "nbconvert_exporter": "python",
   "pygments_lexer": "ipython3",
   "version": "3.13.5"
  }
 },
 "nbformat": 4,
 "nbformat_minor": 5
}
