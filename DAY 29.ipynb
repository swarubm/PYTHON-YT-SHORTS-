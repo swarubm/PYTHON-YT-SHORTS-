{
 "cells": [
  {
   "cell_type": "markdown",
   "id": "67fe42aa-b550-46f1-96b7-5c8fc568dce5",
   "metadata": {},
   "source": [
    "## 29.Globals function"
   ]
  },
  {
   "cell_type": "code",
   "execution_count": 3,
   "id": "58d997a0-98c0-414b-bcc6-bef09f2573fa",
   "metadata": {},
   "outputs": [
    {
     "name": "stdout",
     "output_type": "stream",
     "text": [
      "local x=10 global x=5\n"
     ]
    }
   ],
   "source": [
    "x = 5 \n",
    "def fun():\n",
    "    x=10\n",
    "    d=globals()\n",
    "    print(\"local x=%d global x=%d\"%(x,d['x']))\n",
    "fun()"
   ]
  },
  {
   "cell_type": "code",
   "execution_count": null,
   "id": "f8b91259-d207-4629-a060-39f77baf5901",
   "metadata": {},
   "outputs": [],
   "source": []
  }
 ],
 "metadata": {
  "kernelspec": {
   "display_name": "Python 3 (ipykernel)",
   "language": "python",
   "name": "python3"
  },
  "language_info": {
   "codemirror_mode": {
    "name": "ipython",
    "version": 3
   },
   "file_extension": ".py",
   "mimetype": "text/x-python",
   "name": "python",
   "nbconvert_exporter": "python",
   "pygments_lexer": "ipython3",
   "version": "3.13.5"
  }
 },
 "nbformat": 4,
 "nbformat_minor": 5
}
