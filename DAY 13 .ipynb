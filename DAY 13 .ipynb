{
 "cells": [
  {
   "cell_type": "markdown",
   "id": "567912b8-0523-44ea-9762-3bcc92b7ea81",
   "metadata": {},
   "source": [
    "# 13. comparing two strings for anagrams"
   ]
  },
  {
   "cell_type": "code",
   "execution_count": null,
   "id": "d212f3d0-1bc6-4d6a-b5b9-bfc9f6fe867a",
   "metadata": {},
   "outputs": [],
   "source": [
    "str1 = \"listen\"    \n",
    "str2 = \"silent\"  \n",
    "str1 = str1.replace(\"\",\"\").upper()  \n",
    "str2 = str2.replace(\"\",\"\").upper() \n",
    "if sorted (str1)==sorted(str2):           \n",
    "    print(\"True\")\n",
    "else:\n",
    "    print(\"false\")"
   ]
  }
 ],
 "metadata": {
  "kernelspec": {
   "display_name": "Python 3 (ipykernel)",
   "language": "python",
   "name": "python3"
  },
  "language_info": {
   "codemirror_mode": {
    "name": "ipython",
    "version": 3
   },
   "file_extension": ".py",
   "mimetype": "text/x-python",
   "name": "python",
   "nbconvert_exporter": "python",
   "pygments_lexer": "ipython3",
   "version": "3.13.5"
  }
 },
 "nbformat": 4,
 "nbformat_minor": 5
}
